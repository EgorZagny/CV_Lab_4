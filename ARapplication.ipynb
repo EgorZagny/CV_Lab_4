{
 "cells": [
  {
   "cell_type": "code",
   "execution_count": 1,
   "metadata": {},
   "outputs": [],
   "source": [
    "from keras.models import Model, load_model\n",
    "\n",
    "\n",
    "MIN_MATCH_COUNT = 19\n",
    "import numpy as np\n",
    "import cv2\n",
    "import time"
   ]
  },
  {
   "cell_type": "code",
   "execution_count": 27,
   "metadata": {},
   "outputs": [],
   "source": [
    "#завантажити нейромережу\n",
    "model = load_model('Network')\n",
    "IMG_SIZE = 128"
   ]
  },
  {
   "cell_type": "code",
   "execution_count": 15,
   "metadata": {},
   "outputs": [],
   "source": [
    "#вставляє наступний кадр з трейлеру до нашого відео \n",
    "def insertFrame(frame, good, kp1, kp2, cap, img):\n",
    "    ret, video_frame = cap.read()\n",
    "    height, width, _ = img.shape\n",
    "    video_frame = cv2.resize(video_frame, (width, height))\n",
    "    #print(1)                                \n",
    "    src_pts = np.float32([ kp1[m.queryIdx].pt for m in good ]).reshape(-1,1,2)\n",
    "    dst_pts = np.float32([ kp2[m.trainIdx].pt for m in good ]).reshape(-1,1,2)\n",
    "\n",
    "    M, mask = cv2.findHomography(src_pts, dst_pts, cv2.RANSAC,5.0)\n",
    "    matchesMask = mask.ravel().tolist()\n",
    "\n",
    "    h,w,c = img.shape\n",
    "    pts = np.float32([ [0,0],[0,h-1],[w-1,h-1],[w-1,0] ]).reshape(-1,1,2)\n",
    "    dst = cv2.perspectiveTransform(pts,M)\n",
    "    #frame = cv2.polylines(frame,[np.int32(dst)],True,255,3, cv2.LINE_AA)\n",
    "    imgWarp = cv2.warpPerspective(\n",
    "        video_frame, M, (frame.shape[1], frame.shape[0])\n",
    "    )\n",
    "                    \n",
    "    maskNew = np.zeros((frame.shape[0], frame.shape[1]), np.uint8)\n",
    "    cv2.fillPoly(maskNew, [np.int32(dst)], (255, 255, 255))\n",
    "    maskInv = cv2.bitwise_not(maskNew)\n",
    "    imgAug = cv2.bitwise_and(frame, frame, mask=maskInv)\n",
    "    imgAug = cv2.bitwise_or(imgWarp, imgAug)\n",
    "    return imgAug"
   ]
  },
  {
   "cell_type": "code",
   "execution_count": 46,
   "metadata": {},
   "outputs": [],
   "source": [
    "#проходить нейромережею та дескриптором по відео,\n",
    "#розпізнає обкладинки книг Гаррі Поттера та Хоббіта (або Гобіта, кому як більше подобається)\n",
    "#та заміняє їх трейлерами відповідних їм фільмів\n",
    "cap = cv2.VideoCapture(\"data/video2.mp4\")\n",
    "capHP = cv2.VideoCapture(\"data/HarryPotter/Trailer.mp4\")\n",
    "capH = cv2.VideoCapture(\"data/Hobbit/Trailer.mp4\")\n",
    "capT = [capHP, capH]\n",
    "\n",
    "img1 = cv2.imread(\"data/HarryPotter/0.jpg\")\n",
    "img2 = cv2.imread(\"data/Hobbit/0.jpg\")\n",
    "img2 = cv2.resize(img2, (0,0), fx=0.7, fy=0.7)\n",
    "surf = cv2.xfeatures2d.SURF_create()\n",
    "bf = cv2.BFMatcher()\n",
    "\n",
    "kp_1, des_1 = surf.detectAndCompute(img1, None)\n",
    "kp_2, des_2 = surf.detectAndCompute(img2, None)\n",
    "descr = [(kp_1, des_1, 35), (kp_2, des_2, 35)]\n",
    "\n",
    "images =[img1, img2] \n",
    "count = 0\n",
    "#out = cv2.VideoWriter('result4.avi',cv2.VideoWriter_fourcc('M','J','P','G'), 20, (640, 480))\n",
    "out = cv2.VideoWriter('result2.avi',cv2.VideoWriter_fourcc('M','J','P','G'), 20, (1280, 720))\n",
    "while(True):\n",
    "    reverse = False\n",
    "    count += 1\n",
    "    ret, frame = cap.read()\n",
    "    if ret == True:\n",
    "        x = cv2.resize(frame, (IMG_SIZE, IMG_SIZE), interpolation = cv2.INTER_AREA)\n",
    "        x = cv2.cvtColor(x, cv2.COLOR_BGR2RGB)\n",
    "        x = np.expand_dims(x, axis=0)\n",
    "        x = x/255.0\n",
    "        p = model.predict(x)[0]#аналіз кадру нейромережею\n",
    "        #font = cv2.FONT_HERSHEY_SIMPLEX\n",
    "        #cv2.putText(frame, f\"{p}\", (10,50), font, 2, (0, 255, 0), 2, cv2.LINE_AA)\n",
    "        \n",
    "        if p[1] < p[0]:#визначає у випадку перетину книг, яка книга ближче до камери\n",
    "            p = list(reversed(p))\n",
    "            images = list(reversed(images))\n",
    "            descr = list(reversed(descr))\n",
    "            capT = list(reversed(capT))\n",
    "            reverse = True\n",
    "        \n",
    "        for i in range(2):#чи присутні книги\n",
    "            if p[i] < 0.2:#відсіюваємо варіант, тобто не будемо запускати дескриптор, якщо нейромережа нічого не знайшла\n",
    "                continue\n",
    "            try:\n",
    "                kp1, des1, MIN_MATCH_COUNT = descr[i]\n",
    "\n",
    "                kp2, des2 = surf.detectAndCompute(frame, None)\n",
    "                \n",
    "\n",
    "                good = []\n",
    "                if isinstance(des2, np.ndarray):\n",
    "                    matches = bf.knnMatch(des1, des2, k=2)\n",
    "                    for m,n in matches:\n",
    "                        if m.distance < 0.75*n.distance:\n",
    "                            good.append(m)\n",
    "\n",
    "                if (len(good)>=MIN_MATCH_COUNT):                  \n",
    "                    frame = insertFrame(frame, good, kp1, kp2, capT[i], images[i])\n",
    "            except BaseException:\n",
    "                print(\"surf error\")\n",
    "        \n",
    "        out.write(frame)\n",
    "\n",
    "        cv2.imshow(\"result\", frame)\n",
    "        if reverse:\n",
    "            images = list(reversed(images))\n",
    "            descr = list(reversed(descr))\n",
    "            capT = list(reversed(capT))\n",
    "    else:\n",
    "        break\n",
    "\n",
    "    \n",
    "    k = cv2.waitKey(30) & 0xff\n",
    "    if k == 27:\n",
    "        break\n",
    "\n",
    "out.release()\n",
    "cap.release()\n",
    "capH.release()\n",
    "capHP.release()\n",
    "cv2.destroyAllWindows()"
   ]
  },
  {
   "cell_type": "code",
   "execution_count": 42,
   "metadata": {},
   "outputs": [
    {
     "data": {
      "text/plain": [
       "(480, 640, 3)"
      ]
     },
     "execution_count": 42,
     "metadata": {},
     "output_type": "execute_result"
    }
   ],
   "source": [
    "frame.shape"
   ]
  },
  {
   "cell_type": "code",
   "execution_count": null,
   "metadata": {},
   "outputs": [],
   "source": []
  }
 ],
 "metadata": {
  "kernelspec": {
   "display_name": "Python 3",
   "language": "python",
   "name": "python3"
  },
  "language_info": {
   "codemirror_mode": {
    "name": "ipython",
    "version": 3
   },
   "file_extension": ".py",
   "mimetype": "text/x-python",
   "name": "python",
   "nbconvert_exporter": "python",
   "pygments_lexer": "ipython3",
   "version": "3.7.4"
  }
 },
 "nbformat": 4,
 "nbformat_minor": 4
}
